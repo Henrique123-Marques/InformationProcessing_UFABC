{
  "nbformat": 4,
  "nbformat_minor": 0,
  "metadata": {
    "colab": {
      "provenance": []
    },
    "kernelspec": {
      "name": "python3",
      "display_name": "Python 3"
    },
    "language_info": {
      "name": "python"
    }
  },
  "cells": [
    {
      "cell_type": "markdown",
      "metadata": {
        "id": "6SbpEVV2Tzsa"
      },
      "source": [
        "# Exercício para entregar\n",
        "\n",
        "É um caso frequente que textos encontrados na internet empreguem repetição de letras como expressão de exagero ou outro efeito, como em \"muuuito\" ou \"beeem\". Crie uma função que recebe um _string_ e produz uma cópia do conteúdo, mas eliminando casos de repetição de *3* letras ou mais. Por exemplo, o string \"muuuito\" deve produzir \"muito\", mas o string \"voo\" deve produzir \"voo\".\n",
        "\n"
      ]
    },
    {
      "cell_type": "code",
      "metadata": {
        "id": "Jk31ZTVATwro",
        "colab": {
          "base_uri": "https://localhost:8080/"
        },
        "outputId": "734b01eb-ed55-4552-d54a-5d3a5624e59b"
      },
      "source": [
        "def eliminando(texto):\n",
        "  resposta = ''\n",
        "  for letra in texto:\n",
        "    if letra not in resposta:\n",
        "      resposta += letra\n",
        "  return resposta\n",
        "\n",
        "\n",
        "texto = 'UFAAABC'\n",
        "resposta = eliminando(texto)\n",
        "print(resposta)\n",
        "\n"
      ],
      "execution_count": 12,
      "outputs": [
        {
          "output_type": "stream",
          "name": "stdout",
          "text": [
            "UFABC\n"
          ]
        }
      ]
    }
  ]
}